{
 "cells": [
  {
   "cell_type": "code",
   "execution_count": 81,
   "id": "1034be49",
   "metadata": {},
   "outputs": [],
   "source": [
    "import numpy as np\n",
    "import meshcat\n",
    "from meshcat import transformations as tf\n",
    "from meshcat import geometry as geom \n",
    "from sample_point_clouds import get_rect\n",
    "import time\n",
    "import math\n",
    "\n",
    "sq_iter = []\n",
    "c_iter = []\n",
    "file = open(\"Visualization/sq_iter.txt\", \"r\")\n",
    "temp = file.read().splitlines()\n",
    "for line in temp:\n",
    "    sq_iter.append([float(x) for x in line.replace('[','').replace(']','').split()])\n",
    "file.close()\n",
    "\n",
    "file = open(\"Visualization/c_iter.txt\", \"r\")\n",
    "temp = file.read().splitlines()\n",
    "for line in temp:\n",
    "    c_iter.append([float(x) for x in line.replace('[','').replace(']','').split()])\n",
    "file.close()"
   ]
  },
  {
   "cell_type": "code",
   "execution_count": 33,
   "id": "11c28631",
   "metadata": {},
   "outputs": [],
   "source": [
    "point_cloud_test = get_rect(np.array([2,2]), 1, 1, 100)"
   ]
  },
  {
   "cell_type": "code",
   "execution_count": 124,
   "id": "92c69363",
   "metadata": {
    "scrolled": true
   },
   "outputs": [
    {
     "name": "stdout",
     "output_type": "stream",
     "text": [
      "You can open the visualizer by visiting the following URL:\n",
      "http://127.0.0.1:7054/static/\n"
     ]
    },
    {
     "data": {
      "text/html": [
       "\n",
       "            <div style=\"height: 400px; width: 100%; overflow-x: auto; overflow-y: hidden; resize: both\">\n",
       "            <iframe src=\"http://127.0.0.1:7054/static/\" style=\"width: 100%; height: 100%; border: none\"></iframe>\n",
       "            </div>\n",
       "            "
      ],
      "text/plain": [
       "<IPython.core.display.HTML object>"
      ]
     },
     "execution_count": 124,
     "metadata": {},
     "output_type": "execute_result"
    }
   ],
   "source": [
    "vis = meshcat.Visualizer()\n",
    "vis.jupyter_cell()\n",
    "\n",
    "color_range = np.abs(point_cloud_test) - 1\n",
    "\n",
    "point_cloud = vis['point_cloud']\n",
    "point_cloud.set_transform(tf.translation_matrix([0, 0, .4]))\n",
    "point_cloud.set_object(geom.Points(\n",
    "                       geom.PointsGeometry(point_cloud_test, color=color_range),\n",
    "                       geom.PointsMaterial(size = .1)))\n",
    "plane = vis['plane']\n",
    "plane.set_transform(tf.translation_matrix([0, 0, -.2]))\n",
    "plane.set_object(geom.Box([40, 20, 0.1]), geom.MeshBasicMaterial(color=0xFFFFFF))\n",
    "\n",
    "square = vis['box']\n",
    "square.set_transform(tf.translation_matrix([0,0,-.1]))\n",
    "square.set_object(geom.Box([2, 2, 0.1]), geom.MeshBasicMaterial(color=0x808080))\n",
    "\n",
    "vis.jupyter_cell()\n",
    "\n"
   ]
  },
  {
   "cell_type": "code",
   "execution_count": null,
   "id": "92f4e500",
   "metadata": {},
   "outputs": [],
   "source": []
  },
  {
   "cell_type": "code",
   "execution_count": 127,
   "id": "41cf82fe",
   "metadata": {},
   "outputs": [],
   "source": [
    "for i in range(len(sq_iter)):\n",
    "    new_pos = list((-1*np.array([sq_iter[i]]))[0])\n",
    "    color_range_new_1 = np.array([new_pos[0]*np.ones((100))]).T\n",
    "    color_range_new_2 = np.array([new_pos[1]*np.ones((100))]).T\n",
    "    color_range_new = color_range + np.hstack((color_range_new_1, color_range_new_2))\n",
    "    \n",
    "    new_pos.append(0.5)\n",
    "    \n",
    "    point_cloud.set_transform(tf.translation_matrix(new_pos))\n",
    "    point_cloud.set_object(geom.Points(\n",
    "                       geom.PointsGeometry(point_cloud_test, color=color_range_new),\n",
    "                       geom.PointsMaterial(size = .1)))\n",
    "    time.sleep(0.2)\n",
    "    "
   ]
  },
  {
   "cell_type": "code",
   "execution_count": 116,
   "id": "7ea0bba0",
   "metadata": {},
   "outputs": [
    {
     "name": "stdout",
     "output_type": "stream",
     "text": [
      "You can open the visualizer by visiting the following URL:\n",
      "http://127.0.0.1:7052/static/\n"
     ]
    },
    {
     "data": {
      "text/html": [
       "\n",
       "            <div style=\"height: 400px; width: 100%; overflow-x: auto; overflow-y: hidden; resize: both\">\n",
       "            <iframe src=\"http://127.0.0.1:7052/static/\" style=\"width: 100%; height: 100%; border: none\"></iframe>\n",
       "            </div>\n",
       "            "
      ],
      "text/plain": [
       "<IPython.core.display.HTML object>"
      ]
     },
     "execution_count": 116,
     "metadata": {},
     "output_type": "execute_result"
    }
   ],
   "source": [
    "vis = meshcat.Visualizer()\n",
    "vis.jupyter_cell()\n",
    "\n",
    "point_cloud_test = point_cloud_test.T\n",
    "color_range_c = []\n",
    "for i in range(len(point_cloud_test)):\n",
    "    color = np.linalg.norm(point_cloud_test[i]) - 1\n",
    "    color_range_c.append([color, color])\n",
    "color_range_c = np.array(color_range_c)\n",
    "\n",
    "p_cloud_test = point_cloud_test.T\n",
    "\n",
    "point_cloud_2 = vis['point_cloud_2']\n",
    "point_cloud_2.set_transform(tf.translation_matrix([0, 0, .4]))\n",
    "point_cloud_2.set_object(geom.Points(\n",
    "                       geom.PointsGeometry(point_cloud_test, color=color_range_c),\n",
    "                       geom.PointsMaterial(size = .1)))\n",
    "\n",
    "plane = vis['plane']\n",
    "plane.set_transform(tf.translation_matrix([0, 0, -.2]))\n",
    "plane.set_object(geom.Box([40, 20, 0.1]), geom.MeshBasicMaterial(color=0xFFFFFF))\n",
    "\n",
    "circle = vis['circle']\n",
    "circle.set_transform(tf.translation_matrix([0,0,-.1]))\n",
    "circle.set_transform(tf.rotation_matrix(math.pi/2, [1,0,0]))\n",
    "circle.set_object(geom.Cylinder(.1), geom.MeshBasicMaterial(color=0x808080))\n",
    "vis.jupyter_cell()"
   ]
  },
  {
   "cell_type": "code",
   "execution_count": null,
   "id": "9386dcf2",
   "metadata": {
    "scrolled": true
   },
   "outputs": [],
   "source": []
  },
  {
   "cell_type": "code",
   "execution_count": 113,
   "id": "f011ee29",
   "metadata": {},
   "outputs": [
    {
     "ename": "ValueError",
     "evalue": "operands could not be broadcast together with shapes (100,2) (1,2,100) ",
     "output_type": "error",
     "traceback": [
      "\u001b[0;31m---------------------------------------------------------------------------\u001b[0m",
      "\u001b[0;31mValueError\u001b[0m                                Traceback (most recent call last)",
      "Cell \u001b[0;32mIn[113], line 6\u001b[0m\n\u001b[1;32m      4\u001b[0m color_range_new_1 \u001b[38;5;241m=\u001b[39m np\u001b[38;5;241m.\u001b[39marray([new_pos[\u001b[38;5;241m0\u001b[39m]\u001b[38;5;241m*\u001b[39mnp\u001b[38;5;241m.\u001b[39mones((\u001b[38;5;241m1\u001b[39m, \u001b[38;5;241m100\u001b[39m))])\n\u001b[1;32m      5\u001b[0m color_range_new_2 \u001b[38;5;241m=\u001b[39m np\u001b[38;5;241m.\u001b[39marray([new_pos[\u001b[38;5;241m1\u001b[39m]\u001b[38;5;241m*\u001b[39mnp\u001b[38;5;241m.\u001b[39mones((\u001b[38;5;241m1\u001b[39m, \u001b[38;5;241m100\u001b[39m))])\n\u001b[0;32m----> 6\u001b[0m color_range_new \u001b[38;5;241m=\u001b[39m (color_range \u001b[38;5;241m+\u001b[39m np\u001b[38;5;241m.\u001b[39mhstack((color_range_new_1, color_range_new_2)))[\u001b[38;5;241m0\u001b[39m]\n\u001b[1;32m      8\u001b[0m new_pos\u001b[38;5;241m.\u001b[39mappend(\u001b[38;5;241m0.5\u001b[39m)\n\u001b[1;32m     10\u001b[0m point_cloud\u001b[38;5;241m.\u001b[39mset_transform(tf\u001b[38;5;241m.\u001b[39mtranslation_matrix(new_pos))\n",
      "\u001b[0;31mValueError\u001b[0m: operands could not be broadcast together with shapes (100,2) (1,2,100) "
     ]
    }
   ],
   "source": [
    "time.sleep(5)\n",
    "for i in range(len(c_iter)):\n",
    "    new_pos = list((-1*np.array([c_iter[i]]))[0])\n",
    "    color_range_new_1 = np.array([new_pos[0]*np.ones((100))]).T\n",
    "    color_range_new_2 = np.array([new_pos[1]*np.ones((100))]).T\n",
    "    color_range_new = (color_range + np.hstack((color_range_new_1, color_range_new_2)))[0]\n",
    "    \n",
    "    new_pos.append(0.5)\n",
    "    \n",
    "    point_cloud.set_transform(tf.translation_matrix(new_pos))\n",
    "    point_cloud.set_object(geom.Points(\n",
    "                       geom.PointsGeometry(point_cloud_test, color=color_range_new),\n",
    "                       geom.PointsMaterial(size = .1)))\n",
    "    time.sleep(0.2)\n",
    "    "
   ]
  },
  {
   "cell_type": "code",
   "execution_count": null,
   "id": "62898538",
   "metadata": {},
   "outputs": [],
   "source": []
  }
 ],
 "metadata": {
  "kernelspec": {
   "display_name": "Python 3 (ipykernel)",
   "language": "python",
   "name": "python3"
  },
  "language_info": {
   "codemirror_mode": {
    "name": "ipython",
    "version": 3
   },
   "file_extension": ".py",
   "mimetype": "text/x-python",
   "name": "python",
   "nbconvert_exporter": "python",
   "pygments_lexer": "ipython3",
   "version": "3.11.4"
  }
 },
 "nbformat": 4,
 "nbformat_minor": 5
}
