{
 "cells": [
  {
   "cell_type": "code",
   "execution_count": 1,
   "id": "3d954b85",
   "metadata": {},
   "outputs": [],
   "source": [
    "import numpy as np\n",
    "import meshcat\n",
    "from meshcat import transformations as tf\n",
    "from meshcat import geometry as geom \n",
    "from sample_point_clouds_local import get_rect\n",
    "import time\n",
    "import math\n",
    "\n",
    "sq_iter = []\n",
    "c_iter = []\n",
    "file = open(\"sq_iter.txt\", \"r\")\n",
    "temp = file.read().splitlines()\n",
    "for line in temp:\n",
    "    sq_iter.append([float(x) for x in line.replace('[','').replace(']','').split()])\n",
    "file.close()\n",
    "\n",
    "file = open(\"c_iter.txt\", \"r\")\n",
    "temp = file.read().splitlines()\n",
    "for line in temp:\n",
    "    c_iter.append([float(x) for x in line.replace('[','').replace(']','').split()])\n",
    "file.close()"
   ]
  },
  {
   "cell_type": "code",
   "execution_count": 2,
   "id": "f2a669c3",
   "metadata": {},
   "outputs": [],
   "source": [
    "point_cloud_test = get_rect(np.array([2,2]), 1, 1, 100).T"
   ]
  },
  {
   "cell_type": "code",
   "execution_count": 3,
   "id": "a9f8449b",
   "metadata": {
    "scrolled": true
   },
   "outputs": [
    {
     "name": "stdout",
     "output_type": "stream",
     "text": [
      "You can open the visualizer by visiting the following URL:\n",
      "http://127.0.0.1:7004/static/\n"
     ]
    },
    {
     "data": {
      "text/html": [
       "\n",
       "            <div style=\"height: 400px; width: 100%; overflow-x: auto; overflow-y: hidden; resize: both\">\n",
       "            <iframe src=\"http://127.0.0.1:7004/static/\" style=\"width: 100%; height: 100%; border: none\"></iframe>\n",
       "            </div>\n",
       "            "
      ],
      "text/plain": [
       "<IPython.core.display.HTML object>"
      ]
     },
     "execution_count": 3,
     "metadata": {},
     "output_type": "execute_result"
    }
   ],
   "source": [
    "vis = meshcat.Visualizer()\n",
    "vis.jupyter_cell()\n",
    "\n",
    "color_range = np.abs(point_cloud_test) - 1\n",
    "\n",
    "point_cloud = vis['point_cloud']\n",
    "point_cloud.delete()\n",
    "point_cloud.set_transform(tf.translation_matrix([0, 0, .5]))\n",
    "point_cloud.set_object(geom.Points(\n",
    "                       geom.PointsGeometry(point_cloud_test, color=color_range),\n",
    "                       geom.PointsMaterial(size = .1)))\n",
    "\n",
    "plane = vis['plane']\n",
    "plane.delete()\n",
    "plane.set_transform(tf.translation_matrix([0, 0, -.2]))\n",
    "plane.set_object(geom.Box([20, 20, 0.1]), geom.MeshBasicMaterial(color=0xffffff))\n",
    "\n",
    "square = vis['square']\n",
    "square.delete()\n",
    "square.set_transform(tf.translation_matrix([0,0,-.1]))\n",
    "square.set_object(geom.Box([2, 2, 0.1]), geom.MeshBasicMaterial(color=0x808080))\n",
    "\n",
    "vis.jupyter_cell()\n",
    "\n"
   ]
  },
  {
   "cell_type": "code",
   "execution_count": null,
   "id": "39f23188",
   "metadata": {
    "scrolled": true
   },
   "outputs": [],
   "source": []
  },
  {
   "cell_type": "code",
   "execution_count": 5,
   "id": "e903bfff",
   "metadata": {},
   "outputs": [],
   "source": [
    "for i in range(len(sq_iter)):\n",
    "    new_pos = list((-1*np.array([sq_iter[i]]))[0])\n",
    "    color_range_new_1 = np.array([new_pos[0]*np.ones((1, 100))])\n",
    "    color_range_new_2 = np.array([new_pos[1]*np.ones((1, 100))])\n",
    "    color_range_new = color_range + np.hstack((color_range_new_1, color_range_new_2))[0]\n",
    "    \n",
    "    new_pos.append(0.5)\n",
    "    \n",
    "    point_cloud.set_transform(tf.translation_matrix(new_pos))\n",
    "    point_cloud.set_object(geom.Points(\n",
    "                       geom.PointsGeometry(point_cloud_test, color=color_range_new),\n",
    "                       geom.PointsMaterial(size = .1)))\n",
    "    time.sleep(0.2)\n",
    "    "
   ]
  },
  {
   "cell_type": "code",
   "execution_count": 13,
   "id": "e3a93e08",
   "metadata": {
    "scrolled": true
   },
   "outputs": [
    {
     "name": "stdout",
     "output_type": "stream",
     "text": [
      "You can open the visualizer by visiting the following URL:\n",
      "http://127.0.0.1:7007/static/\n"
     ]
    },
    {
     "data": {
      "text/html": [
       "\n",
       "            <div style=\"height: 400px; width: 100%; overflow-x: auto; overflow-y: hidden; resize: both\">\n",
       "            <iframe src=\"http://127.0.0.1:7007/static/\" style=\"width: 100%; height: 100%; border: none\"></iframe>\n",
       "            </div>\n",
       "            "
      ],
      "text/plain": [
       "<IPython.core.display.HTML object>"
      ]
     },
     "execution_count": 13,
     "metadata": {},
     "output_type": "execute_result"
    }
   ],
   "source": [
    "vis = meshcat.Visualizer()\n",
    "vis.jupyter_cell()\n",
    "\n",
    "point_cloud_copy = point_cloud_test\n",
    "point_cloud_copy = point_cloud_copy.T\n",
    "color_range_c = []\n",
    "for i in range(len(point_cloud_copy)):\n",
    "    color = np.linalg.norm(point_cloud_copy[i]) - 1\n",
    "    color_range_c.append([color, color])\n",
    "color_range_c = np.array(color_range_c).T\n",
    "\n",
    "\n",
    "point_cloud_2 = vis['point_cloud_2']\n",
    "point_cloud_2.delete()\n",
    "point_cloud_2.set_transform(tf.translation_matrix([0, 0, .4]))\n",
    "point_cloud_2.set_object(geom.Points(\n",
    "                       geom.PointsGeometry(point_cloud_test, color=color_range_c),\n",
    "                       geom.PointsMaterial(size = .1)))\n",
    "\n",
    "plane = vis['plane']\n",
    "plane.delete()\n",
    "plane.set_transform(tf.translation_matrix([0, 0, -.2]))\n",
    "plane.set_object(geom.Box([40, 20, 0.1]), geom.MeshBasicMaterial(color=0xFFFFFF))\n",
    "\n",
    "circle = vis['circle']\n",
    "circle.delete()\n",
    "circle.set_transform(tf.translation_matrix([0,0,-.1]))\n",
    "circle.set_transform(tf.rotation_matrix(math.pi/2, [1,0,0]))\n",
    "circle.set_object(geom.Cylinder(.1), geom.MeshBasicMaterial(color=0x808080))\n",
    "vis.jupyter_cell()"
   ]
  },
  {
   "cell_type": "code",
   "execution_count": 8,
   "id": "ade952bf",
   "metadata": {
    "scrolled": true
   },
   "outputs": [
    {
     "name": "stdout",
     "output_type": "stream",
     "text": [
      "0.4606387799429834 2.0\n"
     ]
    }
   ],
   "source": [
    "print(np.min(color_range_c), np.max(color_range))"
   ]
  },
  {
   "cell_type": "code",
   "execution_count": 14,
   "id": "c04763b5",
   "metadata": {},
   "outputs": [],
   "source": [
    "time.sleep(5)\n",
    "for i in range(len(c_iter)):\n",
    "    new_pos = list((-1*np.array([c_iter[i]]))[0])\n",
    "    color_range_c = []\n",
    "    for i in range(len(point_cloud_copy)):\n",
    "        color = np.linalg.norm(point_cloud_copy[i]+np.array(new_pos)) - 1\n",
    "        color_range_c.append([color, color])\n",
    "    color_range_c = np.array(color_range_c).T\n",
    "    \n",
    "    new_pos.append(0.5)\n",
    "    \n",
    "    point_cloud_2.set_transform(tf.translation_matrix(new_pos))\n",
    "    point_cloud_2.set_object(geom.Points(\n",
    "                       geom.PointsGeometry(point_cloud_test, color=color_range_c),\n",
    "                       geom.PointsMaterial(size = .1)))\n",
    "    time.sleep(0.1)\n",
    "    "
   ]
  },
  {
   "cell_type": "code",
   "execution_count": null,
   "id": "18ab06d8",
   "metadata": {},
   "outputs": [],
   "source": []
  }
 ],
 "metadata": {
  "kernelspec": {
   "display_name": "Python 3 (ipykernel)",
   "language": "python",
   "name": "python3"
  },
  "language_info": {
   "codemirror_mode": {
    "name": "ipython",
    "version": 3
   },
   "file_extension": ".py",
   "mimetype": "text/x-python",
   "name": "python",
   "nbconvert_exporter": "python",
   "pygments_lexer": "ipython3",
   "version": "3.11.4"
  }
 },
 "nbformat": 4,
 "nbformat_minor": 5
}
