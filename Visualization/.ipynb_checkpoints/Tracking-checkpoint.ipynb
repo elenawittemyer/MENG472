{
 "cells": [
  {
   "cell_type": "code",
   "execution_count": 1,
   "metadata": {},
   "outputs": [],
   "source": [
    "import jax.numpy as np\n",
    "import os\n",
    "import meshcat\n",
    "from sample_point_clouds_local import get_rect\n",
    "from meshcat import transformations as tf\n",
    "from meshcat import geometry as geom \n",
    "import time\n",
    "\n",
    "wd = os.getcwd()\n",
    "\n",
    "point_clouds = np.load('./point_clouds.npy')\n",
    "point_cloud_pos = np.load('./point_cloud_pos.npy')\n",
    "sdfs = np.load('./sdf_guess.npy')\n",
    "transforms = np.concatenate((np.array([[0.,0.]]), np.load('./transform_guess.npy')))\n",
    "twists = np.load('./twist_guess.npy')\n",
    "robot_pos = np.hstack((np.arange(0, 68, 2)[:, np.newaxis], np.arange(0, 68, 2)[:, np.newaxis]))"
   ]
  },
  {
   "cell_type": "code",
   "execution_count": null,
   "metadata": {},
   "outputs": [],
   "source": []
  },
  {
   "cell_type": "code",
   "execution_count": 2,
   "metadata": {
    "scrolled": true
   },
   "outputs": [
    {
     "name": "stdout",
     "output_type": "stream",
     "text": [
      "You can open the visualizer by visiting the following URL:\n",
      "http://127.0.0.1:7001/static/\n"
     ]
    },
    {
     "data": {
      "text/html": [
       "\n",
       "            <div style=\"height: 400px; width: 100%; overflow-x: auto; overflow-y: hidden; resize: both\">\n",
       "            <iframe src=\"http://127.0.0.1:7001/static/\" style=\"width: 100%; height: 100%; border: none\"></iframe>\n",
       "            </div>\n",
       "            "
      ],
      "text/plain": [
       "<IPython.core.display.HTML object>"
      ]
     },
     "execution_count": 2,
     "metadata": {},
     "output_type": "execute_result"
    }
   ],
   "source": [
    "vis = meshcat.Visualizer()\n",
    "vis.jupyter_cell()\n",
    "\n",
    "point_cloud = vis['point_cloud']\n",
    "point_cloud.delete()\n",
    "point_cloud.set_transform(tf.translation_matrix([point_cloud_pos[0][0], point_cloud_pos[0][1], .5]))\n",
    "point_cloud.set_object(geom.Points(\n",
    "                       geom.PointsGeometry(point_clouds[0].T),\n",
    "                       geom.PointsMaterial(size = .1)))\n",
    "\n",
    "shape_guess = vis['shape_guess']\n",
    "shape_guess.delete()\n",
    "shape_guess.set_transform(tf.translation_matrix([transforms[0][0], transforms[0][1], .5]))\n",
    "shape_guess.set_object(geom.Box([2, 2, 0.1]))\n",
    "\n",
    "\n",
    "vis.jupyter_cell()"
   ]
  },
  {
   "cell_type": "code",
   "execution_count": 3,
   "metadata": {},
   "outputs": [],
   "source": [
    "for i in range(1, len(transforms)):\n",
    "    point_cloud.set_transform(tf.translation_matrix([point_cloud_pos[i][0], point_cloud_pos[i][1], .5]))\n",
    "    point_cloud.set_object(geom.Points(\n",
    "                       geom.PointsGeometry(point_clouds[i].T),\n",
    "                       geom.PointsMaterial(size = .1)))\n",
    "    shape_guess.set_transform(tf.translation_matrix([transforms[i][0], transforms[i][1], .5]))\n",
    "    time.sleep(.2)\n",
    "    "
   ]
  },
  {
   "cell_type": "code",
   "execution_count": null,
   "metadata": {},
   "outputs": [],
   "source": []
  }
 ],
 "metadata": {
  "kernelspec": {
   "display_name": "Python 3 (ipykernel)",
   "language": "python",
   "name": "python3"
  },
  "language_info": {
   "codemirror_mode": {
    "name": "ipython",
    "version": 3
   },
   "file_extension": ".py",
   "mimetype": "text/x-python",
   "name": "python",
   "nbconvert_exporter": "python",
   "pygments_lexer": "ipython3",
   "version": "3.11.4"
  }
 },
 "nbformat": 4,
 "nbformat_minor": 2
}
