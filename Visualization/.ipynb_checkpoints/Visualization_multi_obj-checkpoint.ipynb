{
 "cells": [
  {
   "cell_type": "code",
   "execution_count": 6,
   "id": "3d954b85",
   "metadata": {},
   "outputs": [],
   "source": [
    "import numpy as np\n",
    "import meshcat\n",
    "from meshcat import transformations as tf\n",
    "from meshcat import geometry as geom \n",
    "from sample_point_clouds_local import get_rect\n",
    "import time\n",
    "import math\n",
    "\n",
    "sq_T = []\n",
    "c_T = []\n",
    "file = open(\"multi_obj/sq_T.txt\", \"r\")\n",
    "temp = file.read().splitlines()\n",
    "for line in temp:\n",
    "    sq_T.append([float(x) for x in line.replace('[','').replace(']','').split()])\n",
    "file.close()\n",
    "\n",
    "file = open(\"multi_obj/c_T.txt\", \"r\")\n",
    "temp = file.read().splitlines()\n",
    "for line in temp:\n",
    "    c_T.append([float(x) for x in line.replace('[','').replace(']','').split()])\n",
    "file.close()"
   ]
  },
  {
   "cell_type": "code",
   "execution_count": 43,
   "id": "bd740e50",
   "metadata": {},
   "outputs": [],
   "source": [
    "def get_rect(center, width, height, num_points):\n",
    "    samples = int(num_points/4)\n",
    "    width_array = np.array([width*np.ones(samples)])\n",
    "    height_array = np.array([height*np.ones(samples)])\n",
    "    top = np.hstack((np.array([np.random.uniform(-width, width, samples)]).T, height_array.T))\n",
    "    bottom = np.hstack((np.array([np.random.uniform(-width, width, samples)]).T, -height_array.T))\n",
    "    left = np.hstack((width_array.T, np.array([np.random.uniform(-height, height, samples)]).T))\n",
    "    right = np.hstack((-width_array.T, np.array([np.random.uniform(-height, height, samples)]).T))\n",
    "    rect = np.vstack((np.vstack((np.vstack((top, bottom)), left)), right))\n",
    "    rect = rect + center.T\n",
    "    return rect\n",
    "\n",
    "\n",
    "\n",
    "def get_circle(center, radius, num_points):\n",
    "    x_point = np.random.uniform(0, radius, int(num_points/4))\n",
    "    x_point = np.concatenate((x_point, -1*x_point))\n",
    "    y_point = np.sqrt(1-x_point**2)\n",
    "    pos_circle = np.vstack((x_point, y_point)).T\n",
    "    neg_y_point = -1*y_point\n",
    "    neg_circle = np.vstack((x_point, neg_y_point)).T\n",
    "    circle = np.vstack((pos_circle, neg_circle))\n",
    "    circle = circle + center\n",
    "    return circle\n",
    "\n",
    "point_cloud_c1 = get_circle(np.array([1., 1.]), 1, 100)\n",
    "point_cloud_sq1 = get_rect(np.array([3., 8.]), 1, 1, 100)"
   ]
  },
  {
   "cell_type": "code",
   "execution_count": 63,
   "id": "932a4dc3",
   "metadata": {},
   "outputs": [
    {
     "name": "stdout",
     "output_type": "stream",
     "text": [
      "You can open the visualizer by visiting the following URL:\n",
      "http://127.0.0.1:7032/static/\n"
     ]
    },
    {
     "data": {
      "text/html": [
       "\n",
       "            <div style=\"height: 400px; width: 100%; overflow-x: auto; overflow-y: hidden; resize: both\">\n",
       "            <iframe src=\"http://127.0.0.1:7032/static/\" style=\"width: 100%; height: 100%; border: none\"></iframe>\n",
       "            </div>\n",
       "            "
      ],
      "text/plain": [
       "<IPython.core.display.HTML object>"
      ]
     },
     "execution_count": 63,
     "metadata": {},
     "output_type": "execute_result"
    }
   ],
   "source": [
    "vis = meshcat.Visualizer()\n",
    "vis.jupyter_cell()\n",
    "\n",
    "rect_cloud = vis['rect_cloud']\n",
    "rect_cloud.delete()\n",
    "rect_cloud.set_transform(tf.translation_matrix([0., 0., 1.5]))\n",
    "rect_cloud.set_object(geom.Points(\n",
    "                       geom.PointsGeometry(point_cloud_sq1.T),\n",
    "                       geom.PointsMaterial(size = .1)))\n",
    "circ_cloud = vis['circ_cloud']\n",
    "circ_cloud.delete()\n",
    "circ_cloud.set_transform(tf.translation_matrix([0., 0., 1.5]))\n",
    "circ_cloud.set_object(geom.Points(\n",
    "                       geom.PointsGeometry(point_cloud_c1.T),\n",
    "                       geom.PointsMaterial(size = .1)))\n",
    "\n",
    "\n",
    "rect_guess = vis['rect_guess']\n",
    "rect_guess.delete()\n",
    "rect_guess.set_transform(tf.translation_matrix([0., 0., 0.]))\n",
    "rect_guess.set_object(geom.Box([2, 2, 0.1]), geom.MeshBasicMaterial(color=0xFF0000))\n",
    "\n",
    "circ_guess = vis['circ_guess']\n",
    "circ_guess.delete()\n",
    "circ_guess.set_transform(tf.translation_matrix([0. ,0., 0.]))\n",
    "circ_guess.set_object(geom.Sphere(1), geom.MeshBasicMaterial(color=0x0000FF))\n",
    "\n",
    "vis.jupyter_cell()\n"
   ]
  },
  {
   "cell_type": "code",
   "execution_count": 64,
   "id": "57ab7616",
   "metadata": {},
   "outputs": [],
   "source": [
    "time.sleep(20)\n",
    "for i in range(0, len(c_T), 2):\n",
    "    circ_guess.set_transform(tf.translation_matrix([c_T[i][0], c_T[i][1], 1.5]))\n",
    "    rect_guess.set_transform(tf.translation_matrix([sq_T[i][0], sq_T[i][1], 1.5]))\n",
    "    time.sleep(.05)"
   ]
  },
  {
   "cell_type": "code",
   "execution_count": null,
   "id": "103d2c6d",
   "metadata": {},
   "outputs": [],
   "source": []
  }
 ],
 "metadata": {
  "kernelspec": {
   "display_name": "Python 3 (ipykernel)",
   "language": "python",
   "name": "python3"
  },
  "language_info": {
   "codemirror_mode": {
    "name": "ipython",
    "version": 3
   },
   "file_extension": ".py",
   "mimetype": "text/x-python",
   "name": "python",
   "nbconvert_exporter": "python",
   "pygments_lexer": "ipython3",
   "version": "3.11.4"
  }
 },
 "nbformat": 4,
 "nbformat_minor": 5
}
