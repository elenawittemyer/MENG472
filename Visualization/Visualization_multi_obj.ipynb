{
 "cells": [
  {
   "cell_type": "code",
   "execution_count": 1,
   "id": "3d954b85",
   "metadata": {},
   "outputs": [],
   "source": [
    "import numpy as np\n",
    "import meshcat\n",
    "from meshcat import transformations as tf\n",
    "from meshcat import geometry as geom \n",
    "from sample_point_clouds_local import get_rect\n",
    "import time\n",
    "import math\n",
    "\n",
    "sq_iter = []\n",
    "c_iter = []\n",
    "file = open(\"sq_iter.txt\", \"r\")\n",
    "temp = file.read().splitlines()\n",
    "for line in temp:\n",
    "    sq_iter.append([float(x) for x in line.replace('[','').replace(']','').split()])\n",
    "file.close()\n",
    "\n",
    "file = open(\"c_iter.txt\", \"r\")\n",
    "temp = file.read().splitlines()\n",
    "for line in temp:\n",
    "    c_iter.append([float(x) for x in line.replace('[','').replace(']','').split()])\n",
    "file.close()"
   ]
  }
 ],
 "metadata": {
  "kernelspec": {
   "display_name": "Python 3 (ipykernel)",
   "language": "python",
   "name": "python3"
  },
  "language_info": {
   "codemirror_mode": {
    "name": "ipython",
    "version": 3
   },
   "file_extension": ".py",
   "mimetype": "text/x-python",
   "name": "python",
   "nbconvert_exporter": "python",
   "pygments_lexer": "ipython3",
   "version": "3.11.4"
  }
 },
 "nbformat": 4,
 "nbformat_minor": 5
}
